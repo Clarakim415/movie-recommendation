{
 "cells": [
  {
   "cell_type": "code",
   "execution_count": 97,
   "metadata": {},
   "outputs": [],
   "source": [
    "import pandas as pd\n",
    "import ast"
   ]
  },
  {
   "cell_type": "code",
   "execution_count": 98,
   "metadata": {},
   "outputs": [],
   "source": [
    "movies = pd.read_csv(\"tmdb_5000_movies.csv\")\n",
    "credits = pd.read_csv(\"tmdb_5000_credits.csv\")"
   ]
  },
  {
   "cell_type": "code",
   "execution_count": 99,
   "metadata": {},
   "outputs": [],
   "source": [
    "#credits = credits.dropna"
   ]
  },
  {
   "cell_type": "code",
   "execution_count": 100,
   "metadata": {},
   "outputs": [],
   "source": [
    "# class Credit:\n",
    "#     def __init__(self):\n",
    "#         self.title = \"\"\n",
    "#         self.cast = []\n",
    "#         self.crew = []\n",
    "#         self.id = None\n",
    "\n",
    "#     def get_cast(self):\n",
    "#         actor = [i['name'] for i in self.cast]\n",
    "#         cast_str = str(self)\n",
    "#         cast_dict = ast.literal_eval(cast_str)\n",
    "#         return actor\n",
    "    "
   ]
  },
  {
   "cell_type": "code",
   "execution_count": 101,
   "metadata": {},
   "outputs": [],
   "source": [
    "class Credit:\n",
    "    def __init__(self):\n",
    "        self.title = self.movie_id\n",
    "        self.cast = []\n",
    "        self.crew = []\n",
    "        self.id = self.movie_id\n",
    "\n",
    "    def get_cast(self):\n",
    "        cast_str = str(self.cast)\n",
    "        cast_dict = ast.literal_eval(cast_str)\n",
    "        actor_list = []\n",
    "        for actor in cast_dict:\n",
    "            actor_list.append(actor['name'])\n",
    "        return actor_list"
   ]
  },
  {
   "cell_type": "code",
   "execution_count": 102,
   "metadata": {},
   "outputs": [],
   "source": [
    "class Person:\n",
    "     def __init__(self, actor_id, actor_name):\n",
    "        self.actor_name = actor_name\n",
    "        self.actor_id = actor_id"
   ]
  },
  {
   "cell_type": "code",
   "execution_count": 103,
   "metadata": {},
   "outputs": [],
   "source": [
    "def process_lists(item_list):\n",
    "    item_list = eval(item_list.strip(']['))\n",
    "    new_item_list = []\n",
    "    if type(item_list) == tuple:\n",
    "        for item in item_list:\n",
    "            new_item_list.append(item[\"name\"])\n",
    "    else:\n",
    "        new_item_list.append(item_list[\"name\"])\n",
    "    return new_item_list"
   ]
  },
  {
   "cell_type": "code",
   "execution_count": 149,
   "metadata": {},
   "outputs": [],
   "source": [
    "def actor_process(item_list):\n",
    "    item_list = eval(item_list.strip(']['))\n",
    "    new_item_list = []\n",
    "    new_dict = {}\n",
    "    if type(item_list) == tuple:\n",
    "        for item in item_list:\n",
    "            new_dict['name'] = item[\"name\"]\n",
    "            new_dict['id'] = item[\"id\"]\n",
    "            new_item_list.append(new_dict)\n",
    "    else:\n",
    "        new_dict['name'] = item_list[\"name\"]\n",
    "        new_dict['id'] = item_list[\"id\"]\n",
    "        new_item_list.append(new_dict)\n",
    "    return new_item_list"
   ]
  },
  {
   "cell_type": "code",
   "execution_count": 157,
   "metadata": {},
   "outputs": [
    {
     "name": "stderr",
     "output_type": "stream",
     "text": [
      "C:\\Users\\UW HK\\AppData\\Local\\Temp\\ipykernel_17336\\3252518983.py:2: UserWarning: Boolean Series key will be reindexed to match DataFrame index.\n",
      "  credits2 = credits2[credits2.movie_id != '[]'][credits2.cast != '[]'][credits2.title != '[]'][credits2.crew != '[]']\n"
     ]
    }
   ],
   "source": [
    "credits2 = credits\n",
    "credits2 = credits2[credits2.movie_id != '[]'][credits2.cast != '[]'][credits2.title != '[]'][credits2.crew != '[]']\n",
    "credits2['cast'] = credits2['cast'].apply(actor_process)\n",
    "#credits2['crew'] = credits2['crew'].apply(crew_process)"
   ]
  },
  {
   "cell_type": "code",
   "execution_count": 158,
   "metadata": {},
   "outputs": [
    {
     "data": {
      "text/html": [
       "<div>\n",
       "<style scoped>\n",
       "    .dataframe tbody tr th:only-of-type {\n",
       "        vertical-align: middle;\n",
       "    }\n",
       "\n",
       "    .dataframe tbody tr th {\n",
       "        vertical-align: top;\n",
       "    }\n",
       "\n",
       "    .dataframe thead th {\n",
       "        text-align: right;\n",
       "    }\n",
       "</style>\n",
       "<table border=\"1\" class=\"dataframe\">\n",
       "  <thead>\n",
       "    <tr style=\"text-align: right;\">\n",
       "      <th></th>\n",
       "      <th>movie_id</th>\n",
       "      <th>title</th>\n",
       "      <th>cast</th>\n",
       "      <th>crew</th>\n",
       "    </tr>\n",
       "  </thead>\n",
       "  <tbody>\n",
       "    <tr>\n",
       "      <th>0</th>\n",
       "      <td>19995</td>\n",
       "      <td>Avatar</td>\n",
       "      <td>[{'name': 'Julene Renee', 'id': 42286}, {'name...</td>\n",
       "      <td>[{\"credit_id\": \"52fe48009251416c750aca23\", \"de...</td>\n",
       "    </tr>\n",
       "    <tr>\n",
       "      <th>1</th>\n",
       "      <td>285</td>\n",
       "      <td>Pirates of the Caribbean: At World's End</td>\n",
       "      <td>[{'name': 'Ghassan Massoud', 'id': 70577}, {'n...</td>\n",
       "      <td>[{\"credit_id\": \"52fe4232c3a36847f800b579\", \"de...</td>\n",
       "    </tr>\n",
       "    <tr>\n",
       "      <th>2</th>\n",
       "      <td>206647</td>\n",
       "      <td>Spectre</td>\n",
       "      <td>[{'name': 'Matija Mondi Matović', 'id': 172580...</td>\n",
       "      <td>[{\"credit_id\": \"54805967c3a36829b5002c41\", \"de...</td>\n",
       "    </tr>\n",
       "    <tr>\n",
       "      <th>3</th>\n",
       "      <td>49026</td>\n",
       "      <td>The Dark Knight Rises</td>\n",
       "      <td>[{'name': 'Daniel Newman', 'id': 1536670}, {'n...</td>\n",
       "      <td>[{\"credit_id\": \"52fe4781c3a36847f81398c3\", \"de...</td>\n",
       "    </tr>\n",
       "    <tr>\n",
       "      <th>4</th>\n",
       "      <td>49529</td>\n",
       "      <td>John Carter</td>\n",
       "      <td>[{'name': 'Joseph Billingiere', 'id': 1844319}...</td>\n",
       "      <td>[{\"credit_id\": \"52fe479ac3a36847f813eaa3\", \"de...</td>\n",
       "    </tr>\n",
       "    <tr>\n",
       "      <th>...</th>\n",
       "      <td>...</td>\n",
       "      <td>...</td>\n",
       "      <td>...</td>\n",
       "      <td>...</td>\n",
       "    </tr>\n",
       "    <tr>\n",
       "      <th>4798</th>\n",
       "      <td>9367</td>\n",
       "      <td>El Mariachi</td>\n",
       "      <td>[{'name': 'Juan García', 'id': 1066358}, {'nam...</td>\n",
       "      <td>[{\"credit_id\": \"52fe44eec3a36847f80b280b\", \"de...</td>\n",
       "    </tr>\n",
       "    <tr>\n",
       "      <th>4799</th>\n",
       "      <td>72766</td>\n",
       "      <td>Newlyweds</td>\n",
       "      <td>[{'name': 'Daniella Pineda', 'id': 1257819}, {...</td>\n",
       "      <td>[{\"credit_id\": \"52fe487dc3a368484e0fb013\", \"de...</td>\n",
       "    </tr>\n",
       "    <tr>\n",
       "      <th>4800</th>\n",
       "      <td>231617</td>\n",
       "      <td>Signed, Sealed, Delivered</td>\n",
       "      <td>[{'name': 'Daphne Zuniga', 'id': 14668}, {'nam...</td>\n",
       "      <td>[{\"credit_id\": \"52fe4df3c3a36847f8275ecf\", \"de...</td>\n",
       "    </tr>\n",
       "    <tr>\n",
       "      <th>4801</th>\n",
       "      <td>126186</td>\n",
       "      <td>Shanghai Calling</td>\n",
       "      <td>[{'name': 'Zhu Shimao', 'id': 1395490}, {'name...</td>\n",
       "      <td>[{\"credit_id\": \"52fe4ad9c3a368484e16a36b\", \"de...</td>\n",
       "    </tr>\n",
       "    <tr>\n",
       "      <th>4802</th>\n",
       "      <td>25975</td>\n",
       "      <td>My Date with Drew</td>\n",
       "      <td>[{'name': 'Bill D'Elia', 'id': 155007}, {'name...</td>\n",
       "      <td>[{\"credit_id\": \"58ce021b9251415a390165d9\", \"de...</td>\n",
       "    </tr>\n",
       "  </tbody>\n",
       "</table>\n",
       "<p>4753 rows × 4 columns</p>\n",
       "</div>"
      ],
      "text/plain": [
       "      movie_id                                     title  \\\n",
       "0        19995                                    Avatar   \n",
       "1          285  Pirates of the Caribbean: At World's End   \n",
       "2       206647                                   Spectre   \n",
       "3        49026                     The Dark Knight Rises   \n",
       "4        49529                               John Carter   \n",
       "...        ...                                       ...   \n",
       "4798      9367                               El Mariachi   \n",
       "4799     72766                                 Newlyweds   \n",
       "4800    231617                 Signed, Sealed, Delivered   \n",
       "4801    126186                          Shanghai Calling   \n",
       "4802     25975                         My Date with Drew   \n",
       "\n",
       "                                                   cast  \\\n",
       "0     [{'name': 'Julene Renee', 'id': 42286}, {'name...   \n",
       "1     [{'name': 'Ghassan Massoud', 'id': 70577}, {'n...   \n",
       "2     [{'name': 'Matija Mondi Matović', 'id': 172580...   \n",
       "3     [{'name': 'Daniel Newman', 'id': 1536670}, {'n...   \n",
       "4     [{'name': 'Joseph Billingiere', 'id': 1844319}...   \n",
       "...                                                 ...   \n",
       "4798  [{'name': 'Juan García', 'id': 1066358}, {'nam...   \n",
       "4799  [{'name': 'Daniella Pineda', 'id': 1257819}, {...   \n",
       "4800  [{'name': 'Daphne Zuniga', 'id': 14668}, {'nam...   \n",
       "4801  [{'name': 'Zhu Shimao', 'id': 1395490}, {'name...   \n",
       "4802  [{'name': 'Bill D'Elia', 'id': 155007}, {'name...   \n",
       "\n",
       "                                                   crew  \n",
       "0     [{\"credit_id\": \"52fe48009251416c750aca23\", \"de...  \n",
       "1     [{\"credit_id\": \"52fe4232c3a36847f800b579\", \"de...  \n",
       "2     [{\"credit_id\": \"54805967c3a36829b5002c41\", \"de...  \n",
       "3     [{\"credit_id\": \"52fe4781c3a36847f81398c3\", \"de...  \n",
       "4     [{\"credit_id\": \"52fe479ac3a36847f813eaa3\", \"de...  \n",
       "...                                                 ...  \n",
       "4798  [{\"credit_id\": \"52fe44eec3a36847f80b280b\", \"de...  \n",
       "4799  [{\"credit_id\": \"52fe487dc3a368484e0fb013\", \"de...  \n",
       "4800  [{\"credit_id\": \"52fe4df3c3a36847f8275ecf\", \"de...  \n",
       "4801  [{\"credit_id\": \"52fe4ad9c3a368484e16a36b\", \"de...  \n",
       "4802  [{\"credit_id\": \"58ce021b9251415a390165d9\", \"de...  \n",
       "\n",
       "[4753 rows x 4 columns]"
      ]
     },
     "execution_count": 158,
     "metadata": {},
     "output_type": "execute_result"
    }
   ],
   "source": [
    "credits2"
   ]
  },
  {
   "cell_type": "code",
   "execution_count": 170,
   "metadata": {},
   "outputs": [],
   "source": [
    "# def crew_process1(item_list):\n",
    "#     item_list = eval(item_list.strip(']['))\n",
    "#     new_item_list = []\n",
    "#     new_dict = {}\n",
    "#     if type(item_list) == tuple:\n",
    "#         for item in item_list:\n",
    "#             new_dict['name'] = item[\"name\"]\n",
    "#             if \"Director\" in item['job']:\n",
    "#                 new_dict['job'] = item[item[\"job\"] == \"Director\"]\n",
    "#                 new_item_list.append(new_dict)\n",
    "#     else:\n",
    "#         new_dict['name'] = item_list[\"name\"]\n",
    "#         if \"Director\" in item.get(\"job\", \"\"):\n",
    "#             new_dict['job'] = item[item[\"job\"] == \"Director\"]\n",
    "#             new_item_list.append(new_dict)\n",
    "#     return new_item_list"
   ]
  },
  {
   "cell_type": "code",
   "execution_count": 175,
   "metadata": {},
   "outputs": [],
   "source": [
    "# def crew_process2(item_list):\n",
    "#     item_list = eval(item_list.strip(']['))\n",
    "#     new_item_list = []\n",
    "#     new_dict = {}\n",
    "#     if type(item_list) == tuple:\n",
    "#         for item in item_list:\n",
    "#             new_dict['name'] = item[\"name\"]\n",
    "#             new_dict['job'] = \"Director\" if item.get(\"job\", \"\") == \"Director\" else \"\"\n",
    "#             new_item_list.append(new_dict)\n",
    "#     else:\n",
    "#         new_dict['name'] = item_list[\"name\"]\n",
    "#         new_dict['job'] = \"Director\" if item.get(\"job\", \"\") == \"Director\" else \"\"\n",
    "#         new_item_list.append(new_dict)\n",
    "#     return new_item_list\n"
   ]
  },
  {
   "cell_type": "code",
   "execution_count": null,
   "metadata": {},
   "outputs": [],
   "source": [
    "# def crew_process3(item_list):\n",
    "#     item_list = eval(item_list.strip(']['))\n",
    "#     new_item_list = []\n",
    "#     new_dict = {}\n",
    "#     if type(item_list) == tuple:\n",
    "#         for item in item_list:\n",
    "#             new_dict['name'] = item[\"name\"]\n",
    "#             new_dict['job'] = item[\"job\"]\n",
    "#             new_item_list.append(new_dict)\n",
    "#     else:\n",
    "#         new_dict['name'] = item_list[\"name\"]\n",
    "#         new_dict['job'] = item[\"job\"]\n",
    "#         new_item_list.append(new_dict)\n",
    "#     return new_item_list"
   ]
  }
 ],
 "metadata": {
  "kernelspec": {
   "display_name": "base",
   "language": "python",
   "name": "python3"
  },
  "language_info": {
   "codemirror_mode": {
    "name": "ipython",
    "version": 3
   },
   "file_extension": ".py",
   "mimetype": "text/x-python",
   "name": "python",
   "nbconvert_exporter": "python",
   "pygments_lexer": "ipython3",
   "version": "3.9.12"
  },
  "orig_nbformat": 4,
  "vscode": {
   "interpreter": {
    "hash": "469290002184d38d29eda1857b22f2e5a983b8046a87e9700dee62299f18bf9b"
   }
  }
 },
 "nbformat": 4,
 "nbformat_minor": 2
}
